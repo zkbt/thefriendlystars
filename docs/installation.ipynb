{
 "cells": [
  {
   "attachments": {},
   "cell_type": "markdown",
   "metadata": {},
   "source": [
    "# Installation\n",
    "\n",
    "For installing this code we assume you have a Python environment set up, into which you can install packages via `pip`. If so, please continue to one of the installation options below.\n",
    "\n",
    "If this isn't the case, we recommend installing the [Anaconda Python distribution](https://www.anaconda.com/products/distribution), and using `conda` to manage the `python` environment(s) you have installed on your computer. One tutorial (of many) about how to get started with Python and creating `conda` environments is available [here](https://github.com/ers-transit/hackathon-2021-day0).\n",
    "\n",
    "## Basic Installation\n",
    "\n",
    "If you want to install into your current environment, the basic installation should be pretty simple. From the Terminal or Anaconda Prompt, please run\n",
    "```\n",
    "pip install thefriendlystars\n",
    "```\n",
    "and it should install everything, along with all the necessary dependencies. \n",
    "\n",
    "If you previously installed this package and need to grab a newer version, run\n",
    "```\n",
    "pip install --upgrade thefriendlystars\n",
    "```\n",
    "to download any officially released updates.\n",
    "\n",
    "## Developer Installation\n",
    "\n",
    "If you want to install this code while being able to edit and develop it, you can clone its [GitHub repository](https://github.com/zkbt/thefriendlystars.git) onto your own computer. This allows you to edit it for your own sake and/or to draft changes that can be contributed to the public package (after being added as a collaborator to the project on GitHub).\n",
    "\n",
    "To install directly as an editable package on your local computer, run\n",
    "```\n",
    "git clone https://github.com/zkbt/thefriendlystars.git\n",
    "cd thefriendlystars\n",
    "pip install -e '.[develop]'\n",
    "```\n",
    "The `-e .` will point your environment's `thefriendlystars` package to your local folder, meaning that any changes you make in the repository will be reflected in what Python sees when it tries to `import thefriendlystars`. Including the `[develop]` after the `.` will install both the dependencies for the package itself and the extra dependencies required for development (= testing and documentation).\n",
    "\n",
    "## Did it work?\n",
    "You can quickly test whether your installation worked, and what version you have, by running the Python code"
   ]
  },
  {
   "cell_type": "code",
   "execution_count": null,
   "metadata": {},
   "outputs": [],
   "source": [
    "import thefriendlystars\n",
    "thefriendlystars.version()"
   ]
  }
 ],
 "metadata": {
  "kernelspec": {
   "display_name": "chromatic",
   "language": "python",
   "name": "python3"
  },
  "language_info": {
   "codemirror_mode": {
    "name": "ipython",
    "version": 3
   },
   "file_extension": ".py",
   "mimetype": "text/x-python",
   "name": "python",
   "nbconvert_exporter": "python",
   "pygments_lexer": "ipython3",
   "version": "3.10.13"
  },
  "orig_nbformat": 4
 },
 "nbformat": 4,
 "nbformat_minor": 2
}
